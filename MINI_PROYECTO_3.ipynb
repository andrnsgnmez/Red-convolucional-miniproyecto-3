{
  "nbformat": 4,
  "nbformat_minor": 0,
  "metadata": {
    "colab": {
      "provenance": [],
      "include_colab_link": true
    },
    "kernelspec": {
      "name": "python3",
      "display_name": "Python 3"
    },
    "language_info": {
      "name": "python"
    }
  },
  "cells": [
    {
      "cell_type": "markdown",
      "metadata": {
        "id": "view-in-github",
        "colab_type": "text"
      },
      "source": [
        "<a href=\"https://colab.research.google.com/github/fcp2207/Red-convolucional-miniproyecto-3/blob/main/MINI_PROYECTO_3.ipynb\" target=\"_parent\"><img src=\"https://colab.research.google.com/assets/colab-badge.svg\" alt=\"Open In Colab\"/></a>"
      ]
    },
    {
      "cell_type": "code",
      "execution_count": null,
      "metadata": {
        "colab": {
          "base_uri": "https://localhost:8080/"
        },
        "id": "NHWlhKVn-qWJ",
        "outputId": "62660aef-6839-4ab2-80c8-04f95eddc1ad"
      },
      "outputs": [
        {
          "output_type": "stream",
          "name": "stdout",
          "text": [
            "fatal: destination path 'Red-convolucional-miniproyecto-3' already exists and is not an empty directory.\n"
          ]
        }
      ],
      "source": [
        "! git clone https://github.com/andrnsgnmez/Red-convolucional-miniproyecto-3.git"
      ]
    },
    {
      "cell_type": "code",
      "source": [
        "# Importar las bibliotecas necesarias hola como estas\n",
        "import os\n",
        "import numpy as np\n",
        "import matplotlib.pyplot as plt\n",
        "import tensorflow as tf\n",
        "from tensorflow.keras.preprocessing.image import ImageDataGenerator\n",
        "from tensorflow.keras.layers import Conv2D, MaxPooling2D, Flatten, Dense, Dropout\n",
        "from tensorflow.keras.models import Sequential\n",
        "from sklearn.metrics import classification_report, confusion_matrix\n",
        "from tensorflow.keras.preprocessing.image import ImageDataGenerator\n"
      ],
      "metadata": {
        "id": "aqUOH0UrJvok"
      },
      "execution_count": null,
      "outputs": []
    },
    {
      "cell_type": "code",
      "source": [
        "# Definir el nuevo tamaño de las imágenes\n",
        "nuevo_ancho, nuevo_alto = 224, 224  # Este tamaño es más manejable y común para CNNs\n",
        "\n",
        "# Crear un generador de imágenes con redimensionamiento\n",
        "generador_entrenamiento = ImageDataGenerator(\n",
        "    rescale=1./255,\n",
        "    validation_split=0.2  #  normalizar de 0 a 1 y dividir datos para validación\n",
        ")\n",
        "\n",
        "# Cargar y transformar imágenes con redimensionamiento entrenamiento\n",
        "generador_datos_entrenamiento = generador_entrenamiento.flow_from_directory(\n",
        "    'ruta/a/tu/dataset',\n",
        "    target_size=(nuevo_ancho, nuevo_alto),\n",
        "    batch_size=10,\n",
        "    class_mode='categorical',\n",
        "    subset='training'\n",
        ")\n",
        "# Cargar y transformar imágenes con redimensionamiento validación\n",
        "generador_datos_validacion = generador_entrenamiento.flow_from_directory(\n",
        "    'ruta/a/tu/dataset',\n",
        "    target_size=(nuevo_ancho, nuevo_alto),\n",
        "    batch_size=10,\n",
        "    class_mode='categorical',\n",
        "    subset='validation'\n",
        ")\n"
      ],
      "metadata": {
        "id": "DqXII7kRKEzs"
      },
      "execution_count": null,
      "outputs": []
    },
    {
      "cell_type": "code",
      "source": [
        "# Modelo CNN personalizado\n",
        "model_custom = Sequential([ # modelo secuencial en Keras\n",
        "    Conv2D(32, (3,3), activation='relu', input_shape=(nuevo_ancho, nuevo_alto, 3)), # capa convolucional con 32 filtros, un kernel de tamaño 3x3, y función de activación ReLU.\n",
        "    MaxPooling2D(2, 2), # capa de pooling con un tamaño de ventana de 2x2\n",
        "    Conv2D(64, (3,3), activation='relu'),\n",
        "    MaxPooling2D(2,2),\n",
        "    Flatten(),\n",
        "    Dense(512, activation='relu'),\n",
        "    Dropout(0.5),\n",
        "    Dense(5, activation='softmax')\n",
        "])\n",
        "\n",
        "model_custom.compile(optimizer='adam', loss='categorical_crossentropy', metrics=['accuracy']) #compile: Configura el modelo para el entrenamiento.\n",
        "#optimizer='adam': Utiliza el optimizador Adam.\n",
        "#loss='categorical_crossentropy': Define la función de pérdida.\n",
        "#metrics=['accuracy']: Indica que la precisión (accuracy).\n"
      ],
      "metadata": {
        "id": "ZUA94e69KHS6"
      },
      "execution_count": null,
      "outputs": []
    },
    {
      "cell_type": "code",
      "source": [
        "# Cargar MobileNetV2\n",
        "base_model = tf.keras.applications.MobileNetV2(input_shape=(nuevo_alto, nuevo_alto, 3), include_top=False, weights='imagenet')\n",
        "\n",
        "# Congelar el modelo base\n",
        "base_model.trainable = False\n",
        "\n",
        "# Crear modelo sobre la base de MobileNetV2\n",
        "model_mobilenet = Sequential([\n",
        "    base_model,\n",
        "    Flatten(),\n",
        "    Dense(512, activation='relu'),\n",
        "    Dropout(0.5),\n",
        "    Dense(5, activation='softmax')  # 5 clases\n",
        "])\n",
        "\n",
        "model_mobilenet.compile(optimizer='adam', loss='categorical_crossentropy', metrics=['accuracy'])\n"
      ],
      "metadata": {
        "id": "g02VeNuKKH6q"
      },
      "execution_count": null,
      "outputs": []
    },
    {
      "cell_type": "code",
      "source": [
        "# Entrenamiento del modelo personalizado\n",
        "history_custom = model_custom.fit(generador_datos_entrenamiento, validation_data=generador_datos_validacion, epochs=10)\n",
        "\n",
        "# Entrenamiento del modelo MobileNetV2\n",
        "history_mobilenet = model_mobilenet.fit(generador_datos_entrenamiento, validation_data=generador_datos_validacion, epochs=10)\n"
      ],
      "metadata": {
        "id": "0VXhtJ2lKJ06"
      },
      "execution_count": null,
      "outputs": []
    },
    {
      "cell_type": "code",
      "source": [
        "# Función para graficar el rendimiento\n",
        "def plot_history(history, title):\n",
        "    acc = history.history['accuracy']\n",
        "    val_acc = history.history['val_accuracy']\n",
        "    loss = history.history['loss']\n",
        "    val_loss = history.history['val_loss']\n",
        "\n",
        "    epochs = range(len(acc))\n",
        "\n",
        "    plt.plot(epochs, acc, 'r', label='Precisión de entrenamiento')\n",
        "    plt.plot(epochs, val_acc, 'b', label='Precisión de validación')\n",
        "    plt.title(title + ' - Precisión')\n",
        "    plt.legend()\n",
        "\n",
        "    plt.figure()\n",
        "\n",
        "    plt.plot(epochs, loss, 'r', label='Pérdida de entrenamiento')\n",
        "    plt.plot(epochs, val_loss, 'b', label='Pérdida de validación')\n",
        "    plt.title(title + ' - Pérdida')\n",
        "    plt.legend()\n",
        "\n",
        "    plt.show()\n",
        "\n",
        "# Graficar el rendimiento de los modelos\n",
        "plot_history(history_custom, 'Modelo Personalizado')\n",
        "plot_history(history_mobilenet, 'MobileNetV2')\n"
      ],
      "metadata": {
        "id": "jwURa_ACKMB6"
      },
      "execution_count": null,
      "outputs": []
    },
    {
      "cell_type": "code",
      "source": [
        "# Evaluar y calcular métricas para el modelo personalizado\n",
        "predictions_custom = model_custom.predict(generador_datos_validacion)\n",
        "predicted_classes_custom = np.argmax(predictions_custom, axis=1)\n",
        "true_classes = generador_datos_validacion.classes\n",
        "class_labels = list(generador_datos_validacion.class_indices.keys())\n",
        "\n",
        "report_custom = classification_report(true_classes, predicted_classes_custom, target_names=class_labels)\n",
        "print(report_custom)\n",
        "\n",
        "# Repetir para el modelo MobileNetV2\n",
        "predictions_mobilenet = model_mobilenet.predict(generador_datos_validacion)\n",
        "predicted_classes_mobilenet = np.argmax(predictions_mobilenet, axis=1)\n",
        "\n",
        "report_mobilenet = classification_report(true_classes, predicted_classes_mobilenet, target_names=class_labels)\n",
        "print(report_mobilenet)\n"
      ],
      "metadata": {
        "id": "RLC3-Ey6KOWy"
      },
      "execution_count": null,
      "outputs": []
    }
  ]
}
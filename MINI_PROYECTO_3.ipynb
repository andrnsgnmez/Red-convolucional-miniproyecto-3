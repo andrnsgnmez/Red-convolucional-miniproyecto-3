{
  "nbformat": 4,
  "nbformat_minor": 0,
  "metadata": {
    "colab": {
      "provenance": [],
      "authorship_tag": "ABX9TyPA5ujaxKZAmq9WXoN9QaRY",
      "include_colab_link": true
    },
    "kernelspec": {
      "name": "python3",
      "display_name": "Python 3"
    },
    "language_info": {
      "name": "python"
    }
  },
  "cells": [
    {
      "cell_type": "markdown",
      "metadata": {
        "id": "view-in-github",
        "colab_type": "text"
      },
      "source": [
        "<a href=\"https://colab.research.google.com/github/andrnsgnmez/Red-convolucional-miniproyecto-3/blob/main/MINI_PROYECTO_3.ipynb\" target=\"_parent\"><img src=\"https://colab.research.google.com/assets/colab-badge.svg\" alt=\"Open In Colab\"/></a>"
      ]
    },
    {
      "cell_type": "markdown",
      "source": [
        "Mini proyecto 3\n"
      ],
      "metadata": {
        "id": "4DGGBDQ3-03F"
      }
    },
    {
      "cell_type": "code",
      "execution_count": null,
      "metadata": {
        "id": "NHWlhKVn-qWJ"
      },
      "outputs": [],
      "source": [
        "h"
      ]
    }
  ]
}